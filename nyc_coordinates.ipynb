{
 "cells": [
  {
   "cell_type": "markdown",
   "id": "abd17a23",
   "metadata": {},
   "source": [
    "### Importing libraries"
   ]
  },
  {
   "cell_type": "code",
   "execution_count": 1,
   "id": "27a80b28",
   "metadata": {},
   "outputs": [],
   "source": [
    "import requests\n",
    "import os\n",
    "from bs4 import BeautifulSoup\n",
    "import pandas as pd"
   ]
  },
  {
   "cell_type": "markdown",
   "id": "b2bb154a",
   "metadata": {},
   "source": [
    "### Connecting file to data source and extracting soup"
   ]
  },
  {
   "cell_type": "code",
   "execution_count": 25,
   "id": "ba56402a",
   "metadata": {},
   "outputs": [],
   "source": [
    "url = 'https://www.google.com.br/maps/place/Rockefeller+Center/@40.7366045,-74.0116543,12z/data=!4m8!1m2!2m1!1sAttractions!3m4!1s0x89c258fecf664df5:0x33d224a0d5dacca2!8m2!3d40.7587402!4d-73.9786736'"
   ]
  },
  {
   "cell_type": "code",
   "execution_count": 26,
   "id": "2f31fcd8",
   "metadata": {},
   "outputs": [],
   "source": [
    "def extract_url(url):\n",
    "    get_url = requests.get(url)\n",
    "    if get_url.status_code == 200:\n",
    "        data = get_url.content\n",
    "        soup = BeautifulSoup(data)\n",
    "        return soup"
   ]
  },
  {
   "cell_type": "code",
   "execution_count": 27,
   "id": "626967c3",
   "metadata": {},
   "outputs": [],
   "source": [
    "soup = extract_url(url)"
   ]
  },
  {
   "cell_type": "markdown",
   "id": "18bdc76c",
   "metadata": {},
   "source": [
    "### Analysing soup"
   ]
  },
  {
   "cell_type": "markdown",
   "id": "904ba612",
   "metadata": {},
   "source": [
    "#### Getting name of location and coordinates"
   ]
  },
  {
   "cell_type": "code",
   "execution_count": 29,
   "id": "5f8e209f",
   "metadata": {},
   "outputs": [
    {
     "data": {
      "text/plain": [
       "[<a class=\"hl4GXb\" href=\"https://support.google.com/maps/?hl=pt-BR&amp;authuser=0&amp;p=no_javascript\" target=\"_blank\">Ativar JavaScript para ver o Google Maps.</a>]"
      ]
     },
     "execution_count": 29,
     "metadata": {},
     "output_type": "execute_result"
    }
   ],
   "source": [
    "soup.find_all('a')"
   ]
  },
  {
   "cell_type": "code",
   "execution_count": null,
   "id": "94004317",
   "metadata": {},
   "outputs": [],
   "source": []
  }
 ],
 "metadata": {
  "kernelspec": {
   "display_name": "Python 3",
   "language": "python",
   "name": "python3"
  },
  "language_info": {
   "codemirror_mode": {
    "name": "ipython",
    "version": 3
   },
   "file_extension": ".py",
   "mimetype": "text/x-python",
   "name": "python",
   "nbconvert_exporter": "python",
   "pygments_lexer": "ipython3",
   "version": "3.6.13"
  },
  "varInspector": {
   "cols": {
    "lenName": 16,
    "lenType": 16,
    "lenVar": 40
   },
   "kernels_config": {
    "python": {
     "delete_cmd_postfix": "",
     "delete_cmd_prefix": "del ",
     "library": "var_list.py",
     "varRefreshCmd": "print(var_dic_list())"
    },
    "r": {
     "delete_cmd_postfix": ") ",
     "delete_cmd_prefix": "rm(",
     "library": "var_list.r",
     "varRefreshCmd": "cat(var_dic_list()) "
    }
   },
   "types_to_exclude": [
    "module",
    "function",
    "builtin_function_or_method",
    "instance",
    "_Feature"
   ],
   "window_display": false
  }
 },
 "nbformat": 4,
 "nbformat_minor": 5
}
